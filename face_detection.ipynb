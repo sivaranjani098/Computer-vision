{
 "cells": [
  {
   "cell_type": "code",
   "execution_count": 2,
   "metadata": {},
   "outputs": [],
   "source": [
    "\"\"\" FACE DETECTION\"\"\"\n",
    "import cv2 as cv\n",
    "import matplotlib.pyplot as plt"
   ]
  },
  {
   "cell_type": "code",
   "execution_count": 3,
   "metadata": {},
   "outputs": [],
   "source": [
    "img=cv.imread('Photos/group 1.jpg')\n",
    "img_gray=cv.cvtColor(img,cv.COLOR_BGR2GRAY)\n",
    "haar_cascade=cv.CascadeClassifier('config/haar_face.xml')\n",
    "detected_faces=haar_cascade.detectMultiScale(img_gray,scaleFactor=1.1,minNeighbors=1)\n",
    "for (x,y,w,h) in detected_faces:\n",
    "    cv.rectangle(img,(x,y),(x+w,y+h),(0,255,0),2)\n",
    "cv.imshow('Out', img)\n",
    "cv.waitKey(0)"
   ]
  },
  {
   "cell_type": "code",
   "execution_count": 1,
   "metadata": {},
   "outputs": [
    {
     "ename": "NameError",
     "evalue": "name 'cv' is not defined",
     "output_type": "error",
     "traceback": [
      "\u001b[1;31m---------------------------------------------------------------------------\u001b[0m",
      "\u001b[1;31mNameError\u001b[0m                                 Traceback (most recent call last)",
      "Cell \u001b[1;32mIn[1], line 2\u001b[0m\n\u001b[0;32m      1\u001b[0m \u001b[39m### Face detection in video ###\u001b[39;00m\n\u001b[1;32m----> 2\u001b[0m vcap\u001b[39m=\u001b[39mcv\u001b[39m.\u001b[39mVideoCapture(\u001b[39m'\u001b[39m\u001b[39mResources/Videos/Avengers.mp4\u001b[39m\u001b[39m'\u001b[39m)\n\u001b[0;32m      3\u001b[0m haar_cascade\u001b[39m=\u001b[39mcv\u001b[39m.\u001b[39mCascadeClassifier(\u001b[39m'\u001b[39m\u001b[39mResources/config/haar_face.xml\u001b[39m\u001b[39m'\u001b[39m)\n\u001b[0;32m      4\u001b[0m \u001b[39mwhile\u001b[39;00m \u001b[39mTrue\u001b[39;00m:\n",
      "\u001b[1;31mNameError\u001b[0m: name 'cv' is not defined"
     ]
    }
   ],
   "source": [
    "### Face detection in video ###\n",
    "vcap=cv.VideoCapture('Resources/Videos/Avengers.mp4')\n",
    "haar_cascade=cv.CascadeClassifier('Resources/config/haar_face.xml')\n",
    "while True:\n",
    "    ret, frame=vcap.read()\n",
    "    frame =cv.resize(frame,(640,480))\n",
    "    \n",
    "    if ret:\n",
    "        img_gray=cv.cvtColor(frame,cv.COLOR_BGR2BGRAY)\n",
    "        detection_faces=haar_cascade.detectMultiScale(\n",
    "            img_gray,scaleFactor=1.1,minNeighbors=1\n",
    "        )\n",
    "        for (x,y,w,h) in detected_faces:\n",
    "            cv.rectangle(frame,(x,y),(x+w,y+h),(0,255,0),2)\n",
    "        cv.imshow('Out',frame)\n",
    "        cv.waitKey(int(vcap.get(cv.CAP_PROP_FPS)))\n",
    "    else:\n",
    "        break\n",
    "vcap.release()\n",
    "cv.destroyAllWindows()"
   ]
  }
 ],
 "metadata": {
  "kernelspec": {
   "display_name": "Python 3",
   "language": "python",
   "name": "python3"
  },
  "language_info": {
   "codemirror_mode": {
    "name": "ipython",
    "version": 3
   },
   "file_extension": ".py",
   "mimetype": "text/x-python",
   "name": "python",
   "nbconvert_exporter": "python",
   "pygments_lexer": "ipython3",
   "version": "3.11.3"
  },
  "orig_nbformat": 4
 },
 "nbformat": 4,
 "nbformat_minor": 2
}
