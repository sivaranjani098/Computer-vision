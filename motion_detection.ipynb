{
 "cells": [
  {
   "cell_type": "code",
   "execution_count": 1,
   "metadata": {},
   "outputs": [],
   "source": [
    "import cv2 as cv\n",
    "import numpy as np"
   ]
  },
  {
   "cell_type": "code",
   "execution_count": 2,
   "metadata": {},
   "outputs": [],
   "source": [
    "## VIDEO READER ##\n",
    "vcap=cv.VideoCapture('C:/Users/````````````````````/Desktop/ComputerVision/Resources/Resources/Videos/Pedestrian.avi')\n",
    "while True:\n",
    "    ret,frame=vcap.read()\n",
    "    if ret:\n",
    "        cv.imshow('Out',frame)\n",
    "        cv.waitKey(int(vcap.get(cv.CAP_PROP_FPS)))\n",
    "    else:\n",
    "        break\n",
    "vcap.release()\n",
    "cv.destroyAllWindows()    "
   ]
  },
  {
   "cell_type": "code",
   "execution_count": 12,
   "metadata": {},
   "outputs": [
    {
     "ename": "error",
     "evalue": "OpenCV(4.8.0) D:\\a\\opencv-python\\opencv-python\\opencv\\modules\\core\\src\\arithm.cpp:650: error: (-209:Sizes of input arguments do not match) The operation is neither 'array op array' (where arrays have the same size and the same number of channels), nor 'array op scalar', nor 'scalar op array' in function 'cv::arithm_op'\n",
     "output_type": "error",
     "traceback": [
      "\u001b[1;31m---------------------------------------------------------------------------\u001b[0m",
      "\u001b[1;31merror\u001b[0m                                     Traceback (most recent call last)",
      "Cell \u001b[1;32mIn[12], line 7\u001b[0m\n\u001b[0;32m      5\u001b[0m \u001b[39mwhile\u001b[39;00m vcap\u001b[39m.\u001b[39misOpened():\n\u001b[0;32m      6\u001b[0m     frame\u001b[39m=\u001b[39mframe1\u001b[39m.\u001b[39mcopy()\n\u001b[1;32m----> 7\u001b[0m     diff\u001b[39m=\u001b[39mcv\u001b[39m.\u001b[39;49mabsdiff(frame1,frame2)\n\u001b[0;32m      8\u001b[0m     diff_gray\u001b[39m=\u001b[39mcv\u001b[39m.\u001b[39mcvtColor(diff,cv\u001b[39m.\u001b[39mCOLOR_BGR2GRAY)\n\u001b[0;32m      9\u001b[0m     blur\u001b[39m=\u001b[39mcv\u001b[39m.\u001b[39mGaussianBlur(diff_gray,(\u001b[39m5\u001b[39m,\u001b[39m5\u001b[39m),\u001b[39m0\u001b[39m)\n",
      "\u001b[1;31merror\u001b[0m: OpenCV(4.8.0) D:\\a\\opencv-python\\opencv-python\\opencv\\modules\\core\\src\\arithm.cpp:650: error: (-209:Sizes of input arguments do not match) The operation is neither 'array op array' (where arrays have the same size and the same number of channels), nor 'array op scalar', nor 'scalar op array' in function 'cv::arithm_op'\n"
     ]
    }
   ],
   "source": [
    "### VIDEO READER ###\n",
    "vcap=cv.VideoCapture('C:/Users/````````````````````/Desktop/ComputerVision/Resources/Resources/Videos/Pedestrian.avi')\n",
    "ret,frame1=vcap.read()\n",
    "ret,frame2=vcap.read()\n",
    "while vcap.isOpened():\n",
    "    frame=frame1.copy()\n",
    "    diff=cv.absdiff(frame1,frame2)\n",
    "    diff_gray=cv.cvtColor(diff,cv.COLOR_BGR2GRAY)\n",
    "    blur=cv.GaussianBlur(diff_gray,(5,5),0)\n",
    "    _,thresh=cv.threshold(blur,20,255,cv.THRESH_BINARY)\n",
    "    dilated=cv.dilate(thresh,None,iterations=3)\n",
    "    contours,_=cv.findContours(dilated,cv.RETR_TREE,cv.CHAIN_APPROX_SIMPLE)\n",
    "    for contour in contours:\n",
    "        (x,y,w,h)=cv.boundingRect(contour)\n",
    "        if cv.contourArea(contour)<900:\n",
    "            continue\n",
    "        cv.rectangle(frame1,(x,y),(x+w,y+h),(0,255,0),2)\n",
    "        cv.putText(frame1,'status:{0}'.format('Movement'),\n",
    "                   (25,25),cv.FONT_HERSHEY_SIMPLEX,1,(255,0,0),3)\n",
    "    \n",
    "    cv.imshow('Input',frame)\n",
    "    cv.imshow('Threshold',thresh)\n",
    "    cv.imshow('Dilated',dilated)\n",
    "    cv.imshow('MotionDetected',frame1)\n",
    "    cv.waitKey(int(vcap.get(cv.CAP_PROP_FPS)))\n",
    "    frame1=frame2\n",
    "    ret,frame2=vcap.read()\n",
    "    \n",
    "vcap.release()\n",
    "cv.destroyAllWindows() "
   ]
  },
  {
   "cell_type": "code",
   "execution_count": null,
   "metadata": {},
   "outputs": [],
   "source": []
  }
 ],
 "metadata": {
  "kernelspec": {
   "display_name": "Python 3",
   "language": "python",
   "name": "python3"
  },
  "language_info": {
   "codemirror_mode": {
    "name": "ipython",
    "version": 3
   },
   "file_extension": ".py",
   "mimetype": "text/x-python",
   "name": "python",
   "nbconvert_exporter": "python",
   "pygments_lexer": "ipython3",
   "version": "3.11.3"
  },
  "orig_nbformat": 4
 },
 "nbformat": 4,
 "nbformat_minor": 2
}
