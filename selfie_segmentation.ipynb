{
 "cells": [
  {
   "cell_type": "code",
   "execution_count": 21,
   "metadata": {},
   "outputs": [],
   "source": [
    "### SELFIE SEGMENTATION ###\n",
    "import cv2 as cv\n",
    "import mediapipe as mp\n",
    "import numpy as np"
   ]
  },
  {
   "cell_type": "code",
   "execution_count": 31,
   "metadata": {},
   "outputs": [],
   "source": [
    "mpSelfieseg=mp.solutions.selfie_segmentation\n",
    "Selfieseg=mpSelfieseg.SelfieSegmentation"
   ]
  },
  {
   "cell_type": "code",
   "execution_count": 32,
   "metadata": {},
   "outputs": [
    {
     "ename": "TypeError",
     "evalue": "SelfieSegmentation.process() missing 1 required positional argument: 'image'",
     "output_type": "error",
     "traceback": [
      "\u001b[1;31m---------------------------------------------------------------------------\u001b[0m",
      "\u001b[1;31mTypeError\u001b[0m                                 Traceback (most recent call last)",
      "Cell \u001b[1;32mIn[32], line 10\u001b[0m\n\u001b[0;32m      8\u001b[0m \u001b[39mif\u001b[39;00m ret:\n\u001b[0;32m      9\u001b[0m     frame_rgb\u001b[39m=\u001b[39mcv\u001b[39m.\u001b[39mcvtColor(frame,cv\u001b[39m.\u001b[39mCOLOR_BGR2RGB)\n\u001b[1;32m---> 10\u001b[0m     results\u001b[39m=\u001b[39mSelfieSeg\u001b[39m.\u001b[39;49mprocess(frame_rgb)\n\u001b[0;32m     11\u001b[0m     mask\u001b[39m=\u001b[39mresults\u001b[39m.\u001b[39msegmentation_mask \u001b[39m>\u001b[39m \u001b[39m0.8\u001b[39m\n\u001b[0;32m     12\u001b[0m     mask_rgb\u001b[39m=\u001b[39mnp\u001b[39m.\u001b[39mdstack((mask,mask,mask))\n",
      "\u001b[1;31mTypeError\u001b[0m: SelfieSegmentation.process() missing 1 required positional argument: 'image'"
     ]
    }
   ],
   "source": [
    "cap=cv.VideoCapture(0)\n",
    "cap.set(cv.CAP_PROP_FRAME_WIDTH,1080)\n",
    "cap.set(cv.CAP_PROP_FRAME_HEIGHT,720)\n",
    "bg_image=cv.imread('C:/Users/````````````````````/Desktop/ComputerVision/Resources/Resources/Photos/BG.jpg')\n",
    "while True:\n",
    "    ret,frame=cap.read()\n",
    "    bg_image=cv.resize(bg_image,frame.shape[:-1][::-1])\n",
    "    if ret:\n",
    "        frame_rgb=cv.cvtColor(frame,cv.COLOR_BGR2RGB)\n",
    "        results=SelfieSeg.process(frame_rgb)\n",
    "        mask=results.segmentation_mask > 0.8\n",
    "        mask_rgb=np.dstack((mask,mask,mask))\n",
    "        frame=np.where(mask_rgb,frame,bg_image)\n",
    "    cv.imshow('Out',frame)\n",
    "    k=cv.waitKey(1)\n",
    "    if k==113:\n",
    "        break\n",
    "cv.destroyAllWindows()"
   ]
  }
 ],
 "metadata": {
  "kernelspec": {
   "display_name": "Python 3",
   "language": "python",
   "name": "python3"
  },
  "language_info": {
   "codemirror_mode": {
    "name": "ipython",
    "version": 3
   },
   "file_extension": ".py",
   "mimetype": "text/x-python",
   "name": "python",
   "nbconvert_exporter": "python",
   "pygments_lexer": "ipython3",
   "version": "3.10.10"
  },
  "orig_nbformat": 4
 },
 "nbformat": 4,
 "nbformat_minor": 2
}
