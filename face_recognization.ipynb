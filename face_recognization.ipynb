{
 "cells": [
  {
   "cell_type": "code",
   "execution_count": 10,
   "metadata": {},
   "outputs": [
    {
     "name": "stdout",
     "output_type": "stream",
     "text": [
      "Collecting tqdmNote: you may need to restart the kernel to use updated packages.\n"
     ]
    },
    {
     "name": "stderr",
     "output_type": "stream",
     "text": [
      "\n",
      "[notice] A new release of pip available: 22.3.1 -> 23.2.1\n",
      "[notice] To update, run: python.exe -m pip install --upgrade pip\n"
     ]
    },
    {
     "name": "stdout",
     "output_type": "stream",
     "text": [
      "\n",
      "  Downloading tqdm-4.65.0-py3-none-any.whl (77 kB)\n",
      "     ---------------------------------------- 77.1/77.1 kB 1.1 MB/s eta 0:00:00\n",
      "Requirement already satisfied: colorama in c:\\users\\````````````````````\\appdata\\local\\programs\\python\\python311\\lib\\site-packages (from tqdm) (0.4.6)\n",
      "Installing collected packages: tqdm\n",
      "Successfully installed tqdm-4.65.0\n"
     ]
    }
   ],
   "source": [
    "%pip install tqdm"
   ]
  },
  {
   "cell_type": "code",
   "execution_count": 1,
   "metadata": {},
   "outputs": [],
   "source": [
    "### FACE RECOGNITION ###\n",
    "import cv2 as cv\n",
    "import numpy as np\n",
    "import mtcnn\n",
    "import os\n",
    "import glob\n",
    "import tqdm\n",
    "import matplotlib.pyplot as plt\n"
   ]
  },
  {
   "cell_type": "code",
   "execution_count": 2,
   "metadata": {},
   "outputs": [
    {
     "name": "stderr",
     "output_type": "stream",
     "text": [
      "[INFO] Loading Imags From::C:/Users/````````````````````/Desktop/ComputerVision/Resources/Resources/Facestrain\\Ben Afflek: 0it [00:00, ?it/s]\n",
      "[INFO] Loading Imags From::C:/Users/````````````````````/Desktop/ComputerVision/Resources/Resources/Facestrain\\Elton John: 0it [00:00, ?it/s]\n",
      "[INFO] Loading Imags From::C:/Users/````````````````````/Desktop/ComputerVision/Resources/Resources/Facestrain\\Jerry Seinfield: 0it [00:00, ?it/s]\n",
      "[INFO] Loading Imags From::C:/Users/````````````````````/Desktop/ComputerVision/Resources/Resources/Facestrain\\Madonna: 0it [00:00, ?it/s]\n",
      "[INFO] Loading Imags From::C:/Users/````````````````````/Desktop/ComputerVision/Resources/Resources/Facestrain\\Mindy Kaling: 0it [00:00, ?it/s]"
     ]
    },
    {
     "name": "stdout",
     "output_type": "stream",
     "text": [
      "[INFO] Features Shape::(0,)\n",
      "[INFO] Labels::[]\n"
     ]
    },
    {
     "name": "stderr",
     "output_type": "stream",
     "text": [
      "\n"
     ]
    }
   ],
   "source": [
    "### FACE DATASET FEATURE EXTRACTION ###\n",
    "features=[]\n",
    "labels=[]\n",
    "people=['Ben Afflek','Elton John','Jerry Seinfield','Madonna','Mindy Kaling',]\n",
    "mtcnn_model=mtcnn.MTCNN()\n",
    "for p in people:\n",
    "    dir_=os.path.join('C:/Users/````````````````````/Desktop/ComputerVision/Resources/Resources/Facestrain',p)\n",
    "    images=glob.glob(os.path.join(dir_,'*.jpg'))\n",
    "    for img_path in tqdm.tqdm(\n",
    "        images,\n",
    "        desc='[INFO] Loading Imags From::{0}'.format(dir_)\n",
    "    ):\n",
    "        img=cv.imread(img_path)\n",
    "        img_rgb=cv.cvtColor(img,cv.COLOR_BGR2RGB)\n",
    "        faces=mtcnn_model.detect_faces(img_rgb)\n",
    "        try:\n",
    "            x,y,w,h=faces[0]['box']\n",
    "            faces=img[y:y+h,x:x+w]\n",
    "            features.append(face)\n",
    "            labels.append(people.index(p))\n",
    "        except:\n",
    "            pass\n",
    "features=np.array(features,dtype=object)\n",
    "labels=np.array(labels)\n",
    "print('[INFO] Features Shape::{0}'.format(features.shape))\n",
    "print('[INFO] Labels::{0}'.format(np.unique(labels)))\n"
   ]
  }
 ],
 "metadata": {
  "kernelspec": {
   "display_name": "Python 3",
   "language": "python",
   "name": "python3"
  },
  "language_info": {
   "codemirror_mode": {
    "name": "ipython",
    "version": 3
   },
   "file_extension": ".py",
   "mimetype": "text/x-python",
   "name": "python",
   "nbconvert_exporter": "python",
   "pygments_lexer": "ipython3",
   "version": "3.11.3"
  },
  "orig_nbformat": 4
 },
 "nbformat": 4,
 "nbformat_minor": 2
}
