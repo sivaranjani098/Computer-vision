{
 "cells": [
  {
   "cell_type": "code",
   "execution_count": 1,
   "metadata": {},
   "outputs": [],
   "source": [
    "import cv2 as cv\n",
    "import numpy as np"
   ]
  },
  {
   "cell_type": "code",
   "execution_count": 5,
   "metadata": {},
   "outputs": [],
   "source": [
    "## VIDEO READER ##\n",
    "vcap=cv.VideoCapture('C:/Users/````````````````````/Desktop/ComputerVision/Resources/Resources/Videos/Lane.mp4')\n",
    "while True:\n",
    "    ret,frame=vcap.read()\n",
    "    if ret:\n",
    "        cv.imshow('Out',frame)\n",
    "        cv.waitKey(int(vcap.get(cv.CAP_PROP_FPS)))\n",
    "    else:\n",
    "        break\n",
    "vcap.release()\n",
    "cv.destroyAllWindows()    "
   ]
  },
  {
   "cell_type": "code",
   "execution_count": 10,
   "metadata": {},
   "outputs": [
    {
     "ename": "TypeError",
     "evalue": "'NoneType' object is not iterable",
     "output_type": "error",
     "traceback": [
      "\u001b[1;31m---------------------------------------------------------------------------\u001b[0m",
      "\u001b[1;31mTypeError\u001b[0m                                 Traceback (most recent call last)",
      "Cell \u001b[1;32mIn[10], line 31\u001b[0m\n\u001b[0;32m     29\u001b[0m ret, frame\u001b[39m=\u001b[39mvcap\u001b[39m.\u001b[39mread()\n\u001b[0;32m     30\u001b[0m \u001b[39mif\u001b[39;00m ret:\n\u001b[1;32m---> 31\u001b[0m     edge_,mask_,detected_\u001b[39m=\u001b[39mlane_detector(frame)\n\u001b[0;32m     33\u001b[0m     cv\u001b[39m.\u001b[39mimshow(\u001b[39m'\u001b[39m\u001b[39mInput\u001b[39m\u001b[39m'\u001b[39m,frame)\n\u001b[0;32m     34\u001b[0m     cv\u001b[39m.\u001b[39mimshow(\u001b[39m'\u001b[39m\u001b[39mEdge\u001b[39m\u001b[39m'\u001b[39m,edge_)\n",
      "Cell \u001b[1;32mIn[10], line 24\u001b[0m, in \u001b[0;36mlane_detector\u001b[1;34m(img)\u001b[0m\n\u001b[0;32m     20\u001b[0m cropped_img\u001b[39m=\u001b[39mroi(edge,np\u001b[39m.\u001b[39marray(roi_vertices,np\u001b[39m.\u001b[39mint32))\n\u001b[0;32m     21\u001b[0m lines\u001b[39m=\u001b[39mcv\u001b[39m.\u001b[39mHoughLinesP(cropped_img,rho\u001b[39m=\u001b[39m\u001b[39m2\u001b[39m,theta\u001b[39m=\u001b[39mnp\u001b[39m.\u001b[39mpi\u001b[39m/\u001b[39m\u001b[39m180\u001b[39m,\n\u001b[0;32m     22\u001b[0m                      threshold\u001b[39m=\u001b[39m\u001b[39m50\u001b[39m,lines\u001b[39m=\u001b[39mnp\u001b[39m.\u001b[39marray([]),minLineLength\u001b[39m=\u001b[39m\u001b[39m10\u001b[39m)\n\u001b[1;32m---> 24\u001b[0m img_lines\u001b[39m=\u001b[39mdraw_lines(img,lines)\n\u001b[0;32m     25\u001b[0m \u001b[39mreturn\u001b[39;00m edge,cropped_img,img_lines\n",
      "Cell \u001b[1;32mIn[10], line 10\u001b[0m, in \u001b[0;36mdraw_lines\u001b[1;34m(img, lines)\u001b[0m\n\u001b[0;32m      8\u001b[0m img\u001b[39m=\u001b[39mnp\u001b[39m.\u001b[39mcopy(img)\n\u001b[0;32m      9\u001b[0m blank_img\u001b[39m=\u001b[39mnp\u001b[39m.\u001b[39mzeros(img\u001b[39m.\u001b[39mshape,np\u001b[39m.\u001b[39muint8)\n\u001b[1;32m---> 10\u001b[0m \u001b[39mfor\u001b[39;00m line \u001b[39min\u001b[39;00m lines:\n\u001b[0;32m     11\u001b[0m     \u001b[39mfor\u001b[39;00m x1,y1,x2,y2 \u001b[39min\u001b[39;00m line:\n\u001b[0;32m     12\u001b[0m         cv\u001b[39m.\u001b[39mline(blank_img,(x1,y1),(x2,y2),(\u001b[39m0\u001b[39m,\u001b[39m255\u001b[39m,\u001b[39m0\u001b[39m),\u001b[39m5\u001b[39m)\n",
      "\u001b[1;31mTypeError\u001b[0m: 'NoneType' object is not iterable"
     ]
    }
   ],
   "source": [
    "# Lane Detector #\n",
    "def roi(img,vertices):\n",
    "    mask=np.zeros_like(img)\n",
    "    match_mask_color=(255)\n",
    "    cv.fillPoly(mask,[vertices],match_mask_color)\n",
    "    return cv.bitwise_and(img,mask)    \n",
    "def draw_lines(img,lines):\n",
    "    img=np.copy(img)\n",
    "    blank_img=np.zeros(img.shape,np.uint8)\n",
    "    for line in lines:\n",
    "        for x1,y1,x2,y2 in line:\n",
    "            cv.line(blank_img,(x1,y1),(x2,y2),(0,255,0),5)\n",
    "    return cv.addWeighted(img,0.8,blank_img,1,0.0)\n",
    "def lane_detector(img):\n",
    "     h,w=img.shape[:-1]\n",
    "     roi_vertices=[(200,h),(w/2,h/1.37),(w-300,h)]\n",
    "     gray_img=cv.cvtColor(img,cv.COLOR_BGR2RGB)\n",
    "     edge=cv.Canny(gray_img,50,100,apertureSize=3)\n",
    "     # Finding Region interest\n",
    "     cropped_img=roi(edge,np.array(roi_vertices,np.int32))\n",
    "     lines=cv.HoughLinesP(cropped_img,rho=2,theta=np.pi/180,\n",
    "                          threshold=50,lines=np.array([]),minLineLength=10)\n",
    "                        \n",
    "     img_lines=draw_lines(img,lines)\n",
    "     return edge,cropped_img,img_lines\n",
    " ### VIDEO READER ###\n",
    "vcap=cv.VideoCapture('C:/Users/````````````````````/Desktop/ComputerVision/Resources/Resources/Videos/Lane.mp4')\n",
    "while True:\n",
    "    ret, frame=vcap.read()\n",
    "    if ret:\n",
    "        edge_,mask_,detected_=lane_detector(frame)\n",
    "        \n",
    "        cv.imshow('Input',frame)\n",
    "        cv.imshow('Edge',edge_)\n",
    "        cv.imshow('Mask',mask_)\n",
    "        cv.imshow('Detected',detected_)\n",
    "        cv.waitKey(int(vcap.get(cv.CAP_PROP_FPS)))\n",
    "    else:\n",
    "        break\n",
    "vcap.release()\n",
    "cv.destroyAllWindows()    "
   ]
  },
  {
   "cell_type": "code",
   "execution_count": null,
   "metadata": {},
   "outputs": [],
   "source": []
  }
 ],
 "metadata": {
  "kernelspec": {
   "display_name": "Python 3",
   "language": "python",
   "name": "python3"
  },
  "language_info": {
   "codemirror_mode": {
    "name": "ipython",
    "version": 3
   },
   "file_extension": ".py",
   "mimetype": "text/x-python",
   "name": "python",
   "nbconvert_exporter": "python",
   "pygments_lexer": "ipython3",
   "version": "3.11.3"
  },
  "orig_nbformat": 4
 },
 "nbformat": 4,
 "nbformat_minor": 2
}
