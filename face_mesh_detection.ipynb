{
 "cells": [
  {
   "cell_type": "code",
   "execution_count": 28,
   "metadata": {},
   "outputs": [],
   "source": [
    "### FACE MESH DETECTION ###\n",
    "import cv2 as cv\n",
    "import mediapipe as mp\n",
    "import matplotlib.pyplot as plt"
   ]
  },
  {
   "cell_type": "code",
   "execution_count": 29,
   "metadata": {},
   "outputs": [],
   "source": [
    "mpFaceMesh=mp.solutions.face_mesh\n",
    "face_mesh=mpFaceMesh.FaceMesh(static_image_mode=True)\n",
    "mpDraw=mp.solutions.drawing_utils\n",
    "mpDrawStyles=mp.solutions.drawing_styles\n",
    "fm_con=mp.solutions.face_mesh_connections\n"
   ]
  },
  {
   "cell_type": "code",
   "execution_count": 30,
   "metadata": {},
   "outputs": [
    {
     "ename": "AttributeError",
     "evalue": "module 'mediapipe.python.solutions.drawing_styles' has no attribute 'get_default_face_mesh_tesselation_styles'",
     "output_type": "error",
     "traceback": [
      "\u001b[1;31m---------------------------------------------------------------------------\u001b[0m",
      "\u001b[1;31mAttributeError\u001b[0m                            Traceback (most recent call last)",
      "Cell \u001b[1;32mIn[30], line 5\u001b[0m\n\u001b[0;32m      3\u001b[0m results\u001b[39m=\u001b[39mface_mesh\u001b[39m.\u001b[39mprocess(img_rgb)\n\u001b[0;32m      4\u001b[0m \u001b[39mfor\u001b[39;00m landmarks \u001b[39min\u001b[39;00m results\u001b[39m.\u001b[39mmulti_face_landmarks:\n\u001b[1;32m----> 5\u001b[0m     mpDraw\u001b[39m.\u001b[39mdraw_landmarks(img_rgb,landmarks,fm_con\u001b[39m.\u001b[39mFACEMESH_TESSELATION,landmark_drawing_spec\u001b[39m=\u001b[39m\u001b[39mNone\u001b[39;00m,connection_drawing_spec\u001b[39m=\u001b[39mmpDrawStyles\u001b[39m.\u001b[39;49mget_default_face_mesh_tesselation_styles)\n\u001b[0;32m      6\u001b[0m     mpDraw\u001b[39m.\u001b[39mdraw_landmarks(img_rgb,landmarks,fm_con\u001b[39m.\u001b[39mFACEMESH_CONTOURS,landmark_drawing_spec\u001b[39m=\u001b[39m\u001b[39mNone\u001b[39;00m,connection_drawing_spec\u001b[39m=\u001b[39mmpDrawStyles\u001b[39m.\u001b[39mget_default_face_mesh_contours_styles)\n\u001b[0;32m      7\u001b[0m plt\u001b[39m.\u001b[39mimshow(img_rgb) \n",
      "\u001b[1;31mAttributeError\u001b[0m: module 'mediapipe.python.solutions.drawing_styles' has no attribute 'get_default_face_mesh_tesselation_styles'"
     ]
    }
   ],
   "source": [
    "img=cv.imread('C:/Users/````````````````````/Desktop/ComputerVision/Resources/Resources/Photos/lady.jpg')\n",
    "img_rgb=cv.cvtColor(img,cv.COLOR_BGR2RGB)\n",
    "results=face_mesh.process(img_rgb)\n",
    "for landmarks in results.multi_face_landmarks:\n",
    "    mpDraw.draw_landmarks(img_rgb,landmarks,fm_con.FACEMESH_TESSELATION,landmark_drawing_spec=None,connection_drawing_spec=mpDrawStyles.get_default_face_mesh_tesselation_styles)\n",
    "    mpDraw.draw_landmarks(img_rgb,landmarks,fm_con.FACEMESH_CONTOURS,landmark_drawing_spec=None,connection_drawing_spec=mpDrawStyles.get_default_face_mesh_contours_styles)\n",
    "plt.imshow(img_rgb) \n"
   ]
  },
  {
   "cell_type": "code",
   "execution_count": 31,
   "metadata": {},
   "outputs": [
    {
     "name": "stdout",
     "output_type": "stream",
     "text": [
      "frozenset({(270, 409), (176, 149), (37, 0), (84, 17), (318, 324), (293, 334), (386, 385), (7, 163), (33, 246), (17, 314), (374, 380), (251, 389), (390, 373), (267, 269), (295, 285), (389, 356), (173, 133), (33, 7), (377, 152), (158, 157), (405, 321), (54, 103), (263, 466), (324, 308), (67, 109), (409, 291), (157, 173), (454, 323), (388, 387), (78, 191), (148, 176), (311, 310), (39, 37), (249, 390), (144, 145), (402, 318), (80, 81), (310, 415), (153, 154), (384, 398), (397, 365), (234, 127), (103, 67), (282, 295), (338, 297), (378, 400), (127, 162), (321, 375), (375, 291), (317, 402), (81, 82), (154, 155), (91, 181), (334, 296), (297, 332), (269, 270), (150, 136), (109, 10), (356, 454), (58, 132), (312, 311), (152, 148), (415, 308), (161, 160), (296, 336), (65, 55), (61, 146), (78, 95), (380, 381), (398, 362), (361, 288), (246, 161), (162, 21), (0, 267), (82, 13), (132, 93), (314, 405), (10, 338), (178, 87), (387, 386), (381, 382), (70, 63), (61, 185), (14, 317), (105, 66), (300, 293), (382, 362), (88, 178), (185, 40), (46, 53), (284, 251), (400, 377), (136, 172), (323, 361), (13, 312), (21, 54), (172, 58), (373, 374), (163, 144), (276, 283), (53, 52), (365, 379), (379, 378), (146, 91), (263, 249), (283, 282), (87, 14), (145, 153), (155, 133), (93, 234), (66, 107), (95, 88), (159, 158), (52, 65), (332, 284), (40, 39), (191, 80), (63, 105), (181, 84), (466, 388), (149, 150), (288, 397), (160, 159), (385, 384)})\n",
      "frozenset({(374, 380), (390, 373), (249, 390), (385, 384), (373, 374), (263, 466), (387, 386), (381, 382), (384, 398), (466, 388), (386, 385), (388, 387), (263, 249), (380, 381), (398, 362), (382, 362)})\n",
      "frozenset({(154, 155), (33, 7), (246, 161), (159, 158), (144, 145), (173, 133), (158, 157), (163, 144), (153, 154), (7, 163), (161, 160), (157, 173), (33, 246), (160, 159), (145, 153), (155, 133)})\n"
     ]
    }
   ],
   "source": [
    "print(fm_con.FACEMESH_CONTOURS)\n",
    "print(fm_con.FACEMESH_LEFT_EYE)\n",
    "print(fm_con.FACEMESH_RIGHT_EYE)"
   ]
  },
  {
   "cell_type": "code",
   "execution_count": 33,
   "metadata": {},
   "outputs": [
    {
     "ename": "error",
     "evalue": "OpenCV(4.8.0) D:\\a\\opencv-python\\opencv-python\\opencv\\modules\\imgproc\\src\\color.cpp:182: error: (-215:Assertion failed) !_src.empty() in function 'cv::cvtColor'\n",
     "output_type": "error",
     "traceback": [
      "\u001b[1;31m---------------------------------------------------------------------------\u001b[0m",
      "\u001b[1;31merror\u001b[0m                                     Traceback (most recent call last)",
      "Cell \u001b[1;32mIn[33], line 8\u001b[0m\n\u001b[0;32m      4\u001b[0m     \u001b[39mreturn\u001b[39;00m math\u001b[39m.\u001b[39msqrt(\n\u001b[0;32m      5\u001b[0m         ((p1[\u001b[39m0\u001b[39m]\u001b[39m-\u001b[39mp2[\u001b[39m0\u001b[39m])\u001b[39m*\u001b[39m\u001b[39m*\u001b[39m\u001b[39m2\u001b[39m)\u001b[39m+\u001b[39m((p1[\u001b[39m1\u001b[39m]\u001b[39m-\u001b[39mp2[\u001b[39m1\u001b[39m])\u001b[39m*\u001b[39m\u001b[39m*\u001b[39m\u001b[39m2\u001b[39m)\n\u001b[0;32m      6\u001b[0m     )\n\u001b[0;32m      7\u001b[0m img\u001b[39m=\u001b[39mcv\u001b[39m.\u001b[39mimread(\u001b[39m'\u001b[39m\u001b[39mC:/Users/```````````````````/Desktop/ComputerVision/Resources/Resources/Photos/lady.jpg\u001b[39m\u001b[39m'\u001b[39m)\n\u001b[1;32m----> 8\u001b[0m img_rgb\u001b[39m=\u001b[39mcv\u001b[39m.\u001b[39;49mcvtColor(img,cv\u001b[39m.\u001b[39;49mCOLOR_BGR2RGB)\n\u001b[0;32m      9\u001b[0m LEFT_EYE_IDX\u001b[39m=\u001b[39m\u001b[39mlist\u001b[39m(\u001b[39mset\u001b[39m(np\u001b[39m.\u001b[39mravel(\u001b[39mlist\u001b[39m(fm_con\u001b[39m.\u001b[39mFACEMESH_LEFT_EYE))))\n\u001b[0;32m     10\u001b[0m RIGHT_EYE_IDX\u001b[39m=\u001b[39m\u001b[39mlist\u001b[39m(\u001b[39mset\u001b[39m(np\u001b[39m.\u001b[39mravel(\u001b[39mlist\u001b[39m(fm_con\u001b[39m.\u001b[39mFACEMESH_RIGHT_EYE))))\n",
      "\u001b[1;31merror\u001b[0m: OpenCV(4.8.0) D:\\a\\opencv-python\\opencv-python\\opencv\\modules\\imgproc\\src\\color.cpp:182: error: (-215:Assertion failed) !_src.empty() in function 'cv::cvtColor'\n"
     ]
    }
   ],
   "source": [
    "import numpy as np\n",
    "import math\n",
    "def euclidean_dist(p1,p2):\n",
    "    return math.sqrt(\n",
    "        ((p1[0]-p2[0])**2)+((p1[1]-p2[1])**2)\n",
    "    )\n",
    "img=cv.imread('C:/Users/```````````````````/Desktop/ComputerVision/Resources/Resources/Photos/lady.jpg')\n",
    "img_rgb=cv.cvtColor(img,cv.COLOR_BGR2RGB)\n",
    "LEFT_EYE_IDX=list(set(np.ravel(list(fm_con.FACEMESH_LEFT_EYE))))\n",
    "RIGHT_EYE_IDX=list(set(np.ravel(list(fm_con.FACEMESH_RIGHT_EYE))))\n",
    "ALL_EYE_IDX=LEFT_EYE_IDX+RIGHT_EYE_IDX\n",
    "print('LEFT_EYE::{0}'.format(LEFT_EYE_IDX))\n",
    "print('RIGHT_EYE::{0}'.format(RIGHT_EYE_IDX))\n",
    "LEFT_EYE_RP=[362,385,387,263,373,380]\n",
    "RIGHT_EYE_RP=[33,160,150,133,153,144]\n",
    "print('LEFT_EYE_RP::{0}'.format(LEFT_EYE_RP))\n",
    "print('RIGHT_EYE_RP::{0}'.format(RIGHT_EYE_RP))\n",
    "ALL_EYE_RP=LEFT_EYE_RP+RIGHT_EYE_RP\n",
    "h,w=img_rgb.shape[:-1]\n",
    "for idx in ALL_EYE_RP:\n",
    "    lm=landmarks.landmark[idx]\n",
    "    x,y=int(lm.x*w),int(lm.y+h)\n",
    "\n"
   ]
  }
 ],
 "metadata": {
  "kernelspec": {
   "display_name": "Python 3",
   "language": "python",
   "name": "python3"
  },
  "language_info": {
   "codemirror_mode": {
    "name": "ipython",
    "version": 3
   },
   "file_extension": ".py",
   "mimetype": "text/x-python",
   "name": "python",
   "nbconvert_exporter": "python",
   "pygments_lexer": "ipython3",
   "version": "3.10.10"
  },
  "orig_nbformat": 4
 },
 "nbformat": 4,
 "nbformat_minor": 2
}
