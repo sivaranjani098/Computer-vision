{
 "cells": [
  {
   "cell_type": "code",
   "execution_count": 2,
   "metadata": {},
   "outputs": [
    {
     "name": "stderr",
     "output_type": "stream",
     "text": [
      "Downloading https://github.com/ultralytics/assets/releases/download/v0.0.0/yolov8s.pt to 'yolov8s.pt'...\n",
      "100%|██████████| 21.5M/21.5M [09:04<00:00, 41.4kB/s] \n"
     ]
    },
    {
     "data": {
      "text/plain": [
       "<ultralytics.models.yolo.model.YOLO at 0x36b76d16c0>"
      ]
     },
     "execution_count": 2,
     "metadata": {},
     "output_type": "execute_result"
    }
   ],
   "source": [
    "### YOU ONLY LOOK ONCE ###\n",
    "from ultralytics.models.yolo import YOLO\n",
    "import cv2 as cv\n",
    "model=YOLO('yolov8s.pt')\n",
    "model"
   ]
  },
  {
   "cell_type": "code",
   "execution_count": 3,
   "metadata": {},
   "outputs": [
    {
     "name": "stderr",
     "output_type": "stream",
     "text": [
      "Downloading https://github.com/ultralytics/assets/releases/download/v0.0.0/yolov8s-seg.pt to 'yolov8s-seg.pt'...\n",
      "100%|██████████| 22.8M/22.8M [07:42<00:00, 51.7kB/s]\n"
     ]
    },
    {
     "data": {
      "text/plain": [
       "<ultralytics.models.yolo.model.YOLO at 0x36d1da7820>"
      ]
     },
     "execution_count": 3,
     "metadata": {},
     "output_type": "execute_result"
    }
   ],
   "source": [
    "seg_model=YOLO('yolov8s-seg.pt')\n",
    "seg_model"
   ]
  },
  {
   "cell_type": "code",
   "execution_count": 6,
   "metadata": {},
   "outputs": [
    {
     "name": "stderr",
     "output_type": "stream",
     "text": [
      "\n",
      "image 1/1 C:\\Users\\````````````````````\\Desktop\\ComputerVision\\Resources\\Resources\\Photos\\Signal.png: 320x640 9 persons, 3 bicycles, 8 cars, 5 traffic lights, 1 backpack, 3880.0ms\n",
      "Speed: 235.7ms preprocess, 3880.0ms inference, 525.1ms postprocess per image at shape (1, 3, 320, 640)\n"
     ]
    },
    {
     "ename": "AttributeError",
     "evalue": "module 'cv2' has no attribute 'waitkey'",
     "output_type": "error",
     "traceback": [
      "\u001b[1;31m---------------------------------------------------------------------------\u001b[0m",
      "\u001b[1;31mAttributeError\u001b[0m                            Traceback (most recent call last)",
      "Cell \u001b[1;32mIn[6], line 2\u001b[0m\n\u001b[0;32m      1\u001b[0m seg_model\u001b[39m.\u001b[39mpredict(\u001b[39m'\u001b[39m\u001b[39mC:/Users/````````````````````/Desktop/ComputerVision/Resources/Resources/Photos/Signal.png\u001b[39m\u001b[39m'\u001b[39m,show_conf\u001b[39m=\u001b[39m\u001b[39mFalse\u001b[39;00m,show\u001b[39m=\u001b[39m\u001b[39mTrue\u001b[39;00m,line_width\u001b[39m=\u001b[39m\u001b[39m3\u001b[39m,iou\u001b[39m=\u001b[39m\u001b[39m0.5\u001b[39m)\n\u001b[1;32m----> 2\u001b[0m cv\u001b[39m.\u001b[39;49mwaitkey(\u001b[39m0\u001b[39m)\n\u001b[0;32m      3\u001b[0m cv\u001b[39m.\u001b[39mdestroyAllWindows()\n",
      "\u001b[1;31mAttributeError\u001b[0m: module 'cv2' has no attribute 'waitkey'"
     ]
    },
    {
     "ename": "",
     "evalue": "",
     "output_type": "error",
     "traceback": [
      "\u001b[1;31mThe Kernel crashed while executing code in the the current cell or a previous cell. Please review the code in the cell(s) to identify a possible cause of the failure. Click <a href='https://aka.ms/vscodeJupyterKernelCrash'>here</a> for more info. View Jupyter <a href='command:jupyter.viewOutput'>log</a> for further details."
     ]
    }
   ],
   "source": [
    "seg_model.predict('C:/Users/````````````````````/Desktop/ComputerVision/Resources/Resources/Photos/Signal.png',show_conf=False,show=True,line_width=3,iou=0.5)\n",
    "cv.waitkey(0)\n",
    "cv.destroyAllWindows()\n"
   ]
  }
 ],
 "metadata": {
  "kernelspec": {
   "display_name": "Python 3",
   "language": "python",
   "name": "python3"
  },
  "language_info": {
   "codemirror_mode": {
    "name": "ipython",
    "version": 3
   },
   "file_extension": ".py",
   "mimetype": "text/x-python",
   "name": "python",
   "nbconvert_exporter": "python",
   "pygments_lexer": "ipython3",
   "version": "3.10.10"
  },
  "orig_nbformat": 4
 },
 "nbformat": 4,
 "nbformat_minor": 2
}
