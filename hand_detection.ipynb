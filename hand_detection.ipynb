{
 "cells": [
  {
   "cell_type": "code",
   "execution_count": 10,
   "metadata": {},
   "outputs": [
    {
     "name": "stdout",
     "output_type": "stream",
     "text": [
      "Collecting mediapipe==0.8.9.1Note: you may need to restart the kernel to use updated packages.\n"
     ]
    },
    {
     "name": "stderr",
     "output_type": "stream",
     "text": [
      "ERROR: Could not install packages due to an OSError: [WinError 5] Access is denied: 'c:\\\\Users\\\\````````````````````\\\\AppData\\\\Local\\\\Programs\\\\Python\\\\Python310\\\\Lib\\\\site-packages\\\\cv2\\\\cv2.pyd'\n",
      "Consider using the `--user` option or check the permissions.\n",
      "\n",
      "\n",
      "[notice] A new release of pip available: 22.3.1 -> 23.2.1\n",
      "[notice] To update, run: python.exe -m pip install --upgrade pip\n"
     ]
    },
    {
     "name": "stdout",
     "output_type": "stream",
     "text": [
      "\n",
      "  Using cached mediapipe-0.8.9.1-cp310-cp310-win_amd64.whl (48.5 MB)\n",
      "Requirement already satisfied: protobuf>=3.11.4 in c:\\users\\````````````````````\\appdata\\local\\programs\\python\\python310\\lib\\site-packages (from mediapipe==0.8.9.1) (3.19.6)\n",
      "Collecting attrs>=19.1.0\n",
      "  Using cached attrs-23.1.0-py3-none-any.whl (61 kB)\n",
      "Collecting opencv-contrib-python\n",
      "  Using cached opencv_contrib_python-4.8.0.74-cp37-abi3-win_amd64.whl (44.8 MB)\n",
      "Requirement already satisfied: absl-py in c:\\users\\````````````````````\\appdata\\local\\programs\\python\\python310\\lib\\site-packages (from mediapipe==0.8.9.1) (1.4.0)\n",
      "Requirement already satisfied: numpy in c:\\users\\````````````````````\\appdata\\local\\programs\\python\\python310\\lib\\site-packages (from mediapipe==0.8.9.1) (1.25.2)\n",
      "Requirement already satisfied: matplotlib in c:\\users\\````````````````````\\appdata\\local\\programs\\python\\python310\\lib\\site-packages (from mediapipe==0.8.9.1) (3.7.2)\n",
      "Requirement already satisfied: python-dateutil>=2.7 in c:\\users\\````````````````````\\appdata\\roaming\\python\\python310\\site-packages (from matplotlib->mediapipe==0.8.9.1) (2.8.2)\n",
      "Requirement already satisfied: packaging>=20.0 in c:\\users\\````````````````````\\appdata\\local\\programs\\python\\python310\\lib\\site-packages (from matplotlib->mediapipe==0.8.9.1) (23.1)\n",
      "Requirement already satisfied: pyparsing<3.1,>=2.3.1 in c:\\users\\````````````````````\\appdata\\local\\programs\\python\\python310\\lib\\site-packages (from matplotlib->mediapipe==0.8.9.1) (3.0.9)\n",
      "Requirement already satisfied: cycler>=0.10 in c:\\users\\````````````````````\\appdata\\local\\programs\\python\\python310\\lib\\site-packages (from matplotlib->mediapipe==0.8.9.1) (0.11.0)\n",
      "Requirement already satisfied: kiwisolver>=1.0.1 in c:\\users\\````````````````````\\appdata\\local\\programs\\python\\python310\\lib\\site-packages (from matplotlib->mediapipe==0.8.9.1) (1.4.4)\n",
      "Requirement already satisfied: pillow>=6.2.0 in c:\\users\\````````````````````\\appdata\\local\\programs\\python\\python310\\lib\\site-packages (from matplotlib->mediapipe==0.8.9.1) (10.0.0)\n",
      "Requirement already satisfied: contourpy>=1.0.1 in c:\\users\\````````````````````\\appdata\\local\\programs\\python\\python310\\lib\\site-packages (from matplotlib->mediapipe==0.8.9.1) (1.1.0)\n",
      "Requirement already satisfied: fonttools>=4.22.0 in c:\\users\\````````````````````\\appdata\\local\\programs\\python\\python310\\lib\\site-packages (from matplotlib->mediapipe==0.8.9.1) (4.42.0)\n",
      "Requirement already satisfied: six>=1.5 in c:\\users\\````````````````````\\appdata\\local\\programs\\python\\python310\\lib\\site-packages (from python-dateutil>=2.7->matplotlib->mediapipe==0.8.9.1) (1.16.0)\n",
      "Installing collected packages: opencv-contrib-python, attrs, mediapipe\n"
     ]
    }
   ],
   "source": [
    "%pip install mediapipe==0.8.9.1\n"
   ]
  },
  {
   "cell_type": "code",
   "execution_count": 1,
   "metadata": {},
   "outputs": [],
   "source": [
    "### HAND LANDMARK DETECTION ###\n",
    "import cv2 as cv\n",
    "import mediapipe as mp"
   ]
  },
  {
   "cell_type": "code",
   "execution_count": 2,
   "metadata": {},
   "outputs": [],
   "source": [
    "mpHands=mp.solutions.hands\n",
    "hands=mpHands.Hands()\n",
    "mpDraw=mp.solutions.drawing_utils\n"
   ]
  },
  {
   "cell_type": "code",
   "execution_count": 12,
   "metadata": {},
   "outputs": [
    {
     "ename": "KeyboardInterrupt",
     "evalue": "",
     "output_type": "error",
     "traceback": [
      "\u001b[1;31m---------------------------------------------------------------------------\u001b[0m",
      "\u001b[1;31mKeyboardInterrupt\u001b[0m                         Traceback (most recent call last)",
      "Cell \u001b[1;32mIn[12], line 8\u001b[0m\n\u001b[0;32m      6\u001b[0m \u001b[39mif\u001b[39;00m ret:\n\u001b[0;32m      7\u001b[0m     frame_rgb\u001b[39m=\u001b[39mcv\u001b[39m.\u001b[39mcvtColor(frame,cv\u001b[39m.\u001b[39mCOLOR_BGR2RGB)\n\u001b[1;32m----> 8\u001b[0m     results\u001b[39m=\u001b[39mhands\u001b[39m.\u001b[39;49mprocess(frame_rgb)\n\u001b[0;32m      9\u001b[0m     \u001b[39mif\u001b[39;00m results\u001b[39m.\u001b[39mmulti_hand_landmarks:\n\u001b[0;32m     10\u001b[0m         \u001b[39mfor\u001b[39;00m handlms \u001b[39min\u001b[39;00m results\u001b[39m.\u001b[39mmulti_hand_landmarks:\n",
      "File \u001b[1;32m~\\AppData\\Roaming\\Python\\Python310\\site-packages\\mediapipe\\python\\solutions\\hands.py:153\u001b[0m, in \u001b[0;36mHands.process\u001b[1;34m(self, image)\u001b[0m\n\u001b[0;32m    132\u001b[0m \u001b[39mdef\u001b[39;00m \u001b[39mprocess\u001b[39m(\u001b[39mself\u001b[39m, image: np\u001b[39m.\u001b[39mndarray) \u001b[39m-\u001b[39m\u001b[39m>\u001b[39m NamedTuple:\n\u001b[0;32m    133\u001b[0m \u001b[39m  \u001b[39m\u001b[39m\"\"\"Processes an RGB image and returns the hand landmarks and handedness of each detected hand.\u001b[39;00m\n\u001b[0;32m    134\u001b[0m \n\u001b[0;32m    135\u001b[0m \u001b[39m  Args:\u001b[39;00m\n\u001b[1;32m   (...)\u001b[0m\n\u001b[0;32m    150\u001b[0m \u001b[39m         right hand) of the detected hand.\u001b[39;00m\n\u001b[0;32m    151\u001b[0m \u001b[39m  \"\"\"\u001b[39;00m\n\u001b[1;32m--> 153\u001b[0m   \u001b[39mreturn\u001b[39;00m \u001b[39msuper\u001b[39;49m()\u001b[39m.\u001b[39;49mprocess(input_data\u001b[39m=\u001b[39;49m{\u001b[39m'\u001b[39;49m\u001b[39mimage\u001b[39;49m\u001b[39m'\u001b[39;49m: image})\n",
      "File \u001b[1;32m~\\AppData\\Roaming\\Python\\Python310\\site-packages\\mediapipe\\python\\solution_base.py:334\u001b[0m, in \u001b[0;36mSolutionBase.process\u001b[1;34m(self, input_data)\u001b[0m\n\u001b[0;32m    328\u001b[0m   \u001b[39melse\u001b[39;00m:\n\u001b[0;32m    329\u001b[0m     \u001b[39mself\u001b[39m\u001b[39m.\u001b[39m_graph\u001b[39m.\u001b[39madd_packet_to_input_stream(\n\u001b[0;32m    330\u001b[0m         stream\u001b[39m=\u001b[39mstream_name,\n\u001b[0;32m    331\u001b[0m         packet\u001b[39m=\u001b[39m\u001b[39mself\u001b[39m\u001b[39m.\u001b[39m_make_packet(input_stream_type,\n\u001b[0;32m    332\u001b[0m                                  data)\u001b[39m.\u001b[39mat(\u001b[39mself\u001b[39m\u001b[39m.\u001b[39m_simulated_timestamp))\n\u001b[1;32m--> 334\u001b[0m \u001b[39mself\u001b[39;49m\u001b[39m.\u001b[39;49m_graph\u001b[39m.\u001b[39;49mwait_until_idle()\n\u001b[0;32m    335\u001b[0m \u001b[39m# Create a NamedTuple object where the field names are mapping to the graph\u001b[39;00m\n\u001b[0;32m    336\u001b[0m \u001b[39m# output stream names.\u001b[39;00m\n\u001b[0;32m    337\u001b[0m solution_outputs \u001b[39m=\u001b[39m collections\u001b[39m.\u001b[39mnamedtuple(\n\u001b[0;32m    338\u001b[0m     \u001b[39m'\u001b[39m\u001b[39mSolutionOutputs\u001b[39m\u001b[39m'\u001b[39m, \u001b[39mself\u001b[39m\u001b[39m.\u001b[39m_output_stream_type_info\u001b[39m.\u001b[39mkeys())\n",
      "\u001b[1;31mKeyboardInterrupt\u001b[0m: "
     ]
    }
   ],
   "source": [
    "cap=cv.VideoCapture(0)\n",
    "cap.set(cv.CAP_PROP_FRAME_WIDTH,1080)\n",
    "cap.set(cv.CAP_PROP_FRAME_HEIGHT,720)\n",
    "while True:\n",
    "    ret,frame=cap.read()\n",
    "    if ret:\n",
    "        frame_rgb=cv.cvtColor(frame,cv.COLOR_BGR2RGB)\n",
    "        results=hands.process(frame_rgb)\n",
    "        if results.multi_hand_landmarks:\n",
    "            for handlms in results.multi_hand_landmarks:\n",
    "                mpDraw.draw_landmarks(frame,handlms,mpHands.HAND_CONNECTIONS)\n",
    "            cv.imshow('HandDetection',frame)\n",
    "    else:\n",
    "        break\n",
    "    k=cv.waitKey(1)\n",
    "    if k==123:\n",
    "        break"
   ]
  },
  {
   "cell_type": "code",
   "execution_count": 16,
   "metadata": {},
   "outputs": [
    {
     "ename": "TypeError",
     "evalue": "object of type 'NoneType' has no len()",
     "output_type": "error",
     "traceback": [
      "\u001b[1;31m---------------------------------------------------------------------------\u001b[0m",
      "\u001b[1;31mTypeError\u001b[0m                                 Traceback (most recent call last)",
      "Cell \u001b[1;32mIn[16], line 7\u001b[0m\n\u001b[0;32m      5\u001b[0m frame_rgb\u001b[39m=\u001b[39mcv\u001b[39m.\u001b[39mcvtColor(frame,cv\u001b[39m.\u001b[39mCOLOR_BGR2RGB)\n\u001b[0;32m      6\u001b[0m results\u001b[39m=\u001b[39mhands\u001b[39m.\u001b[39mprocess(frame_rgb)\n\u001b[1;32m----> 7\u001b[0m \u001b[39mprint\u001b[39m(\u001b[39m'\u001b[39m\u001b[39mNum Hands:\u001b[39m\u001b[39m'\u001b[39m,\u001b[39mlen\u001b[39;49m(results\u001b[39m.\u001b[39;49mmulti_hand_landmarks))\n\u001b[0;32m      8\u001b[0m \u001b[39mprint\u001b[39m(\u001b[39m'\u001b[39m\u001b[39mHand 1:\u001b[39m\u001b[39m'\u001b[39m,results\u001b[39m.\u001b[39mmulti_hand_landmarks[\u001b[39m0\u001b[39m]\u001b[39m.\u001b[39mlandmark)\n\u001b[0;32m      9\u001b[0m \u001b[39mprint\u001b[39m(\u001b[39m'\u001b[39m\u001b[39mHand 2:\u001b[39m\u001b[39m'\u001b[39m,results\u001b[39m.\u001b[39mmulti_hand_landmarks[\u001b[39m1\u001b[39m]\u001b[39m.\u001b[39mlandmark)\n",
      "\u001b[1;31mTypeError\u001b[0m: object of type 'NoneType' has no len()"
     ]
    }
   ],
   "source": [
    "mpHands=mp.solutions.hands\n",
    "hands=mpHands.Hands(static_image_mode=True)\n",
    "mpDraw=mp.solutions.drawing_utils\n",
    "frame=cv.imread('C:/Users/````````````````````/Desktop/ComputerVision/Resources/Resources/Photos/hand_landmarks.png')\n",
    "frame_rgb=cv.cvtColor(frame,cv.COLOR_BGR2RGB)\n",
    "results=hands.process(frame_rgb)\n",
    "print('Num Hands:',len(results.multi_hand_landmarks))\n",
    "print('Hand 1:',results.multi_hand_landmarks[0].landmark)\n",
    "print('Hand 2:',results.multi_hand_landmarks[1].landmark)\n"
   ]
  },
  {
   "cell_type": "code",
   "execution_count": 3,
   "metadata": {},
   "outputs": [],
   "source": [
    "def find_digit(p):\n",
    "    d=0\n",
    "    TIPS=[4,8,12,16,20]\n",
    "    if p[12].x > p[20].x:\n",
    "        if p[TIPS[0]].x > p[TIPS[0]-1].x:\n",
    "            d+=1\n",
    "    else:\n",
    "        if p[TIPS[0]].x > p[TIPS[0]-1].x:\n",
    "            d+=1\n",
    "    for tip in TIPS[1:]:\n",
    "        if p[tip].y<p[tip-2].y:\n",
    "            d+=1\n",
    "            return d\n",
    "\n"
   ]
  },
  {
   "cell_type": "code",
   "execution_count": 4,
   "metadata": {},
   "outputs": [
    {
     "ename": "KeyboardInterrupt",
     "evalue": "",
     "output_type": "error",
     "traceback": [
      "\u001b[1;31m---------------------------------------------------------------------------\u001b[0m",
      "\u001b[1;31mKeyboardInterrupt\u001b[0m                         Traceback (most recent call last)",
      "Cell \u001b[1;32mIn[4], line 9\u001b[0m\n\u001b[0;32m      7\u001b[0m cv\u001b[39m.\u001b[39mimshow(\u001b[39m'\u001b[39m\u001b[39mHandDetection\u001b[39m\u001b[39m'\u001b[39m,frame)\n\u001b[0;32m      8\u001b[0m frame_rgb\u001b[39m=\u001b[39mcv\u001b[39m.\u001b[39mcvtColor(frame,cv\u001b[39m.\u001b[39mCOLOR_BGR2RGB)\n\u001b[1;32m----> 9\u001b[0m results\u001b[39m=\u001b[39mhands\u001b[39m.\u001b[39;49mprocess(frame_rgb)\n\u001b[0;32m     10\u001b[0m \u001b[39mif\u001b[39;00m results\u001b[39m.\u001b[39mmulti_hand_landmarks:\n\u001b[0;32m     11\u001b[0m    single_hand\u001b[39m=\u001b[39mresults\u001b[39m.\u001b[39mmulti_hand_landmarks[\u001b[39m0\u001b[39m]\n",
      "File \u001b[1;32m~\\AppData\\Roaming\\Python\\Python310\\site-packages\\mediapipe\\python\\solutions\\hands.py:153\u001b[0m, in \u001b[0;36mHands.process\u001b[1;34m(self, image)\u001b[0m\n\u001b[0;32m    132\u001b[0m \u001b[39mdef\u001b[39;00m \u001b[39mprocess\u001b[39m(\u001b[39mself\u001b[39m, image: np\u001b[39m.\u001b[39mndarray) \u001b[39m-\u001b[39m\u001b[39m>\u001b[39m NamedTuple:\n\u001b[0;32m    133\u001b[0m \u001b[39m  \u001b[39m\u001b[39m\"\"\"Processes an RGB image and returns the hand landmarks and handedness of each detected hand.\u001b[39;00m\n\u001b[0;32m    134\u001b[0m \n\u001b[0;32m    135\u001b[0m \u001b[39m  Args:\u001b[39;00m\n\u001b[1;32m   (...)\u001b[0m\n\u001b[0;32m    150\u001b[0m \u001b[39m         right hand) of the detected hand.\u001b[39;00m\n\u001b[0;32m    151\u001b[0m \u001b[39m  \"\"\"\u001b[39;00m\n\u001b[1;32m--> 153\u001b[0m   \u001b[39mreturn\u001b[39;00m \u001b[39msuper\u001b[39;49m()\u001b[39m.\u001b[39;49mprocess(input_data\u001b[39m=\u001b[39;49m{\u001b[39m'\u001b[39;49m\u001b[39mimage\u001b[39;49m\u001b[39m'\u001b[39;49m: image})\n",
      "File \u001b[1;32m~\\AppData\\Roaming\\Python\\Python310\\site-packages\\mediapipe\\python\\solution_base.py:334\u001b[0m, in \u001b[0;36mSolutionBase.process\u001b[1;34m(self, input_data)\u001b[0m\n\u001b[0;32m    328\u001b[0m   \u001b[39melse\u001b[39;00m:\n\u001b[0;32m    329\u001b[0m     \u001b[39mself\u001b[39m\u001b[39m.\u001b[39m_graph\u001b[39m.\u001b[39madd_packet_to_input_stream(\n\u001b[0;32m    330\u001b[0m         stream\u001b[39m=\u001b[39mstream_name,\n\u001b[0;32m    331\u001b[0m         packet\u001b[39m=\u001b[39m\u001b[39mself\u001b[39m\u001b[39m.\u001b[39m_make_packet(input_stream_type,\n\u001b[0;32m    332\u001b[0m                                  data)\u001b[39m.\u001b[39mat(\u001b[39mself\u001b[39m\u001b[39m.\u001b[39m_simulated_timestamp))\n\u001b[1;32m--> 334\u001b[0m \u001b[39mself\u001b[39;49m\u001b[39m.\u001b[39;49m_graph\u001b[39m.\u001b[39;49mwait_until_idle()\n\u001b[0;32m    335\u001b[0m \u001b[39m# Create a NamedTuple object where the field names are mapping to the graph\u001b[39;00m\n\u001b[0;32m    336\u001b[0m \u001b[39m# output stream names.\u001b[39;00m\n\u001b[0;32m    337\u001b[0m solution_outputs \u001b[39m=\u001b[39m collections\u001b[39m.\u001b[39mnamedtuple(\n\u001b[0;32m    338\u001b[0m     \u001b[39m'\u001b[39m\u001b[39mSolutionOutputs\u001b[39m\u001b[39m'\u001b[39m, \u001b[39mself\u001b[39m\u001b[39m.\u001b[39m_output_stream_type_info\u001b[39m.\u001b[39mkeys())\n",
      "\u001b[1;31mKeyboardInterrupt\u001b[0m: "
     ]
    },
    {
     "ename": "",
     "evalue": "",
     "output_type": "error",
     "traceback": [
      "\u001b[1;31mThe Kernel crashed while executing code in the the current cell or a previous cell. Please review the code in the cell(s) to identify a possible cause of the failure. Click <a href='https://aka.ms/vscodeJupyterKernelCrash'>here</a> for more info. View Jupyter <a href='command:jupyter.viewOutput'>log</a> for further details."
     ]
    }
   ],
   "source": [
    "cap=cv.VideoCapture(0)\n",
    "cap.set(cv.CAP_PROP_FRAME_WIDTH,1080)\n",
    "cap.set(cv.CAP_PROP_FRAME_HEIGHT,720)\n",
    "while True:\n",
    "    ret,frame=cap.read()\n",
    "    if ret:\n",
    "        cv.imshow('HandDetection',frame)\n",
    "        frame_rgb=cv.cvtColor(frame,cv.COLOR_BGR2RGB)\n",
    "        results=hands.process(frame_rgb)\n",
    "        if results.multi_hand_landmarks:\n",
    "           single_hand=results.multi_hand_landmarks[0]\n",
    "           keypoints=single_hand.landmark\n",
    "           digit=find_digit(keypoints)\n",
    "           mpDraw.draw_landmarks(frame,single_hand,mpHands.HAND_CONNECTIONS)\n",
    "           cv.putText(frame,'digit-{0}'.format(digit),(10,70),cv.FONT_HERSHEY_COMPLEX,2,[0,255,0],4)\n",
    "        cv.imshow('HandDetection',frame)\n",
    "    else:\n",
    "        break\n",
    "    k=cv.waitKey(1)\n",
    "    if k==133:\n",
    "        break\n",
    "cv.destroyAllWindow()\n",
    "\n"
   ]
  }
 ],
 "metadata": {
  "kernelspec": {
   "display_name": "Python 3",
   "language": "python",
   "name": "python3"
  },
  "language_info": {
   "codemirror_mode": {
    "name": "ipython",
    "version": 3
   },
   "file_extension": ".py",
   "mimetype": "text/x-python",
   "name": "python",
   "nbconvert_exporter": "python",
   "pygments_lexer": "ipython3",
   "version": "3.10.10"
  },
  "orig_nbformat": 4
 },
 "nbformat": 4,
 "nbformat_minor": 2
}
